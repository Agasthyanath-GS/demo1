{
 "cells": [
  {
   "cell_type": "markdown",
   "metadata": {},
   "source": [
    "# Exporting the Model using Flask API and Flasgger"
   ]
  },
  {
   "cell_type": "code",
   "execution_count": 1,
   "metadata": {},
   "outputs": [],
   "source": [
    "#importing necessory packages\n",
    "import pandas as pd\n",
    "import pickle as pkl\n",
    "from flask import Flask,request\n",
    "from flasgger import Swagger\n",
    "from sklearn.preprocessing import StandardScaler"
   ]
  },
  {
   "cell_type": "code",
   "execution_count": 2,
   "metadata": {},
   "outputs": [],
   "source": [
    "#importing the model from pickle file\n",
    "model = pkl.load(open(\"model.pkl\",\"rb\"))"
   ]
  },
  {
   "cell_type": "code",
   "execution_count": 3,
   "metadata": {},
   "outputs": [
    {
     "data": {
      "text/plain": [
       "<flasgger.base.Swagger at 0x1e7fb27c820>"
      ]
     },
     "execution_count": 3,
     "metadata": {},
     "output_type": "execute_result"
    }
   ],
   "source": [
    "#creating the Api and loading the swagger\n",
    "app = Flask(__name__)\n",
    "Swagger(app)"
   ]
  },
  {
   "cell_type": "code",
   "execution_count": 4,
   "metadata": {},
   "outputs": [],
   "source": [
    "#home page setting\n",
    "@app.route(\"/\")\n",
    "def welcome():\n",
    "    return \"WECOME USER  type '/apidocs' for the swagger home page where you can give test dataset \""
   ]
  },
  {
   "cell_type": "code",
   "execution_count": 5,
   "metadata": {},
   "outputs": [],
   "source": [
    "@app.route(\"/predict\",methods = [\"POST\"])\n",
    "#query based language for flasgger\n",
    "def predict():\n",
    "    \"\"\"HEART DISEASE PREDICTION for a INPUT File\n",
    "    Predicting wheather Heart desease present or Not\n",
    "    ---\n",
    "    parameters:\n",
    "    - name: FILE_NAME\n",
    "      in: formData\n",
    "      type: file\n",
    "      required: true\n",
    "    responses:\n",
    "        200:\n",
    "            description: output values\n",
    "    \"\"\"\n",
    "    #reading the file from user\n",
    "    data = pd.read_csv(request.files.get('FILE_NAME'))\n",
    "    \n",
    "    #model prediction\n",
    "    prediction = model.predict(data)\n",
    "    \n",
    "    #returning the predicted output\n",
    "    return \"predicted output is \"+str(prediction)\n",
    "            \n",
    "    "
   ]
  },
  {
   "cell_type": "code",
   "execution_count": 6,
   "metadata": {},
   "outputs": [],
   "source": [
    "@app.route(\"/predict_one\",methods = [\"Get\"])\n",
    "#Query based language for flasgger\n",
    "def predict_one():\n",
    "    \"\"\"HEART DISEASE PREDICTION for a Single Input\n",
    "    Predicting wheather Heart desease present or not\n",
    "    ---\n",
    "    parameters:\n",
    "    - name: slope_of_peak_exercise_st_segment\n",
    "      in: query\n",
    "      type: float\n",
    "      required: false\n",
    "    - name: chest_pain_type\n",
    "      in: query\n",
    "      type: float\n",
    "      required: false\n",
    "    - name: num_major_vessels\n",
    "      in: query\n",
    "      type: float\n",
    "      required: false\n",
    "    - name: oldpeak_eq_st_depression\n",
    "      in: query\n",
    "      type: float\n",
    "      required: false\n",
    "    - name: sex\n",
    "      in: query\n",
    "      type: float\n",
    "      required: false\n",
    "    - name: max_heart_rate_achieved\n",
    "      in: query\n",
    "      type: float\n",
    "      required: false\n",
    "    - name: exercise_induced_angina\n",
    "      in: query\n",
    "      type: float\n",
    "      required: false\n",
    "    - name: normal\n",
    "      in: query\n",
    "      type: float\n",
    "      required: false\n",
    "    - name: reversible_defect\n",
    "      in: query\n",
    "      type: float\n",
    "      required: false\n",
    "    responses:\n",
    "        200:\n",
    "            description: output value\n",
    "    \"\"\"\n",
    "    #collecting the arguments from the frontend and saving those values into variables\n",
    "    slope_of_peak_exercise_st_segment = request.args.get(\"slope_of_peak_exercise_st_segment\")\n",
    "    chest_pain_type = request.args.get(\"chest_pain_type\")\n",
    "    num_major_vessels = request.args.get(\"num_major_vessels\")\n",
    "    oldpeak_eq_st_depression = request.args.get(\"oldpeak_eq_st_depression\")\n",
    "    sex = request.args.get(\"sex\")\n",
    "    max_heart_rate_achieved = request.args.get(\"max_heart_rate_achieved\")\n",
    "    exercise_induced_angina = request.args.get(\"exercise_induced_angina\")\n",
    "    normal = request.args.get(\"normal\")\n",
    "    reversible_defect = request.args.get(\"reversible_defect\") \n",
    "    \n",
    "    parameters = [slope_of_peak_exercise_st_segment,chest_pain_type,num_major_vessels,oldpeak_eq_st_depression,\n",
    "                  sex,max_heart_rate_achieved,exercise_induced_angina,normal,reversible_defect]\n",
    "    \n",
    "    \n",
    "    #checking weather all the arguments are passed or not\n",
    "    for i in parameters:\n",
    "        if i == None:\n",
    "            return \"Input Arguments are missing\"\n",
    "    \n",
    "    #predicting using the model\n",
    "    prediction2 = model.predict([parameters])\n",
    "\n",
    "    #returning the predicted output\n",
    "    return \" The predicted output for the input parameters is : \" + str(prediction2)\n",
    "    \n",
    "    \n",
    "    \n",
    "      "
   ]
  },
  {
   "cell_type": "code",
   "execution_count": 7,
   "metadata": {},
   "outputs": [
    {
     "name": "stdout",
     "output_type": "stream",
     "text": [
      " * Serving Flask app \"__main__\" (lazy loading)\n",
      " * Environment: production\n",
      "   WARNING: This is a development server. Do not use it in a production deployment.\n",
      "   Use a production WSGI server instead.\n",
      " * Debug mode: off\n"
     ]
    },
    {
     "name": "stderr",
     "output_type": "stream",
     "text": [
      " * Running on http://127.0.0.1:5000/ (Press CTRL+C to quit)\n",
      "127.0.0.1 - - [12/Dec/2020 21:23:57] \"\u001b[37mGET / HTTP/1.1\u001b[0m\" 200 -\n",
      "127.0.0.1 - - [12/Dec/2020 21:23:57] \"\u001b[33mGET /favicon.ico HTTP/1.1\u001b[0m\" 404 -\n",
      "127.0.0.1 - - [12/Dec/2020 21:24:04] \"\u001b[32mGET /apidocs HTTP/1.1\u001b[0m\" 308 -\n",
      "127.0.0.1 - - [12/Dec/2020 21:24:05] \"\u001b[37mGET /apidocs/ HTTP/1.1\u001b[0m\" 200 -\n",
      "127.0.0.1 - - [12/Dec/2020 21:24:05] \"\u001b[37mGET /flasgger_static/swagger-ui.css HTTP/1.1\u001b[0m\" 200 -\n",
      "127.0.0.1 - - [12/Dec/2020 21:24:05] \"\u001b[37mGET /flasgger_static/lib/jquery.min.js HTTP/1.1\u001b[0m\" 200 -\n",
      "127.0.0.1 - - [12/Dec/2020 21:24:05] \"\u001b[37mGET /flasgger_static/swagger-ui-standalone-preset.js HTTP/1.1\u001b[0m\" 200 -\n",
      "127.0.0.1 - - [12/Dec/2020 21:24:06] \"\u001b[37mGET /flasgger_static/swagger-ui-bundle.js HTTP/1.1\u001b[0m\" 200 -\n",
      "127.0.0.1 - - [12/Dec/2020 21:24:06] \"\u001b[37mGET /apispec_1.json HTTP/1.1\u001b[0m\" 200 -\n",
      "127.0.0.1 - - [12/Dec/2020 21:24:54] \"\u001b[37mGET /predict_one?slope_of_peak_exercise_st_segment=10&chest_pain_type=10&num_major_vessels=10&oldpeak_eq_st_depression=10&sex=1&max_heart_rate_achieved=10&exercise_induced_angina=10&normal=10&reversible_defect=10 HTTP/1.1\u001b[0m\" 200 -\n"
     ]
    }
   ],
   "source": [
    "#calling the app for running\n",
    "if __name__ == \"__main__\":\n",
    "    app.run()"
   ]
  },
  {
   "cell_type": "code",
   "execution_count": null,
   "metadata": {},
   "outputs": [],
   "source": []
  }
 ],
 "metadata": {
  "kernelspec": {
   "display_name": "Python 3",
   "language": "python",
   "name": "python3"
  },
  "language_info": {
   "codemirror_mode": {
    "name": "ipython",
    "version": 3
   },
   "file_extension": ".py",
   "mimetype": "text/x-python",
   "name": "python",
   "nbconvert_exporter": "python",
   "pygments_lexer": "ipython3",
   "version": "3.8.3"
  }
 },
 "nbformat": 4,
 "nbformat_minor": 4
}
